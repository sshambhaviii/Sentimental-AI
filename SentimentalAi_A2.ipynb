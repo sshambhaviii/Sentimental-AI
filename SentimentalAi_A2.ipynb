{
  "nbformat": 4,
  "nbformat_minor": 0,
  "metadata": {
    "colab": {
      "name": "200914_Sentimental_AI_A2.ipynb",
      "provenance": []
    },
    "kernelspec": {
      "name": "python3",
      "display_name": "Python 3"
    },
    "language_info": {
      "name": "python"
    },
    "accelerator": "GPU",
    "gpuClass": "standard"
  },
  "cells": [
    {
      "cell_type": "markdown",
      "source": [
        "# SENTIMENTAL AI\n",
        "# SnT Summer Project, BCS-IITK\n",
        "## Assignment-2\n",
        "\n",
        "Reference- https://github.com/07Agarg/Natural-Language-Processing-In-Tensorflow-Course/blob/master/Week%204/NLP_Week4_Exercise_Shakespeare_Question.ipynb "
      ],
      "metadata": {
        "id": "uKOZJpSejuwQ"
      }
    },
    {
      "cell_type": "code",
      "execution_count": null,
      "metadata": {
        "id": "UbboSp2kgxU2"
      },
      "outputs": [],
      "source": [
        "from tensorflow.keras.preprocessing.sequence import pad_sequences\n",
        "from tensorflow.keras.layers import Embedding, LSTM, Dense, Dropout, Bidirectional\n",
        "from tensorflow.keras.preprocessing.text import Tokenizer\n",
        "from tensorflow.keras.models import Sequential\n",
        "from tensorflow.keras.optimizers import Adam\n",
        "from tensorflow.keras.regularizers import Regularizer\n",
        "import tensorflow.keras.utils as ku \n",
        "import numpy as np "
      ]
    },
    {
      "cell_type": "code",
      "source": [
        "tokenizer = Tokenizer()\n",
        "!wget --no-check-certificate \\\n",
        "    https://storage.googleapis.com/laurencemoroney-blog.appspot.com/sonnets.txt \\\n",
        "    -O /tmp/sonnets.txt\n",
        "data = open('/tmp/sonnets.txt').read()\n",
        "\n",
        "\n",
        "\n",
        "corpus = data.lower().split(\"\\n\") #convert to lower case and then split the data on '\\n' to create a corpus of lines\n",
        "tokenizer.fit_on_texts(corpus) #fit the tokenizer on the corpus\n",
        "total_words = len(tokenizer.word_index) + 1\n",
        "\n",
        "\n",
        "\n",
        "# create input sequences using list of tokens\n",
        "input_sequences = []\n",
        "for line in corpus:\n",
        "\ttoken_list = tokenizer.texts_to_sequences([line])[0]\n",
        "\tfor i in range(1, len(token_list)):\n",
        "\t\tn_gram_sequence = token_list[:i+1]\n",
        "\t\tinput_sequences.append(n_gram_sequence)\n",
        "\n",
        "\n",
        "# pad sequences \n",
        "max_sequence_len = max([len(x) for x in input_sequences])\n",
        "input_sequences = np.array(pad_sequences(input_sequences, maxlen=max_sequence_len, padding='pre'))\n",
        "\n",
        "# create predictors and label\n",
        "predictors, label = input_sequences[:,:-1],input_sequences[:,-1]\n",
        "\n",
        "label = ku.to_categorical(label, num_classes=total_words)"
      ],
      "metadata": {
        "colab": {
          "base_uri": "https://localhost:8080/"
        },
        "id": "bjKVL_nyg6EX",
        "outputId": "60cd60ee-a045-4408-e5ad-25efc5089a94"
      },
      "execution_count": null,
      "outputs": [
        {
          "output_type": "stream",
          "name": "stdout",
          "text": [
            "--2022-06-21 18:05:30--  https://storage.googleapis.com/laurencemoroney-blog.appspot.com/sonnets.txt\n",
            "Resolving storage.googleapis.com (storage.googleapis.com)... 74.125.195.128, 173.194.202.128, 173.194.203.128, ...\n",
            "Connecting to storage.googleapis.com (storage.googleapis.com)|74.125.195.128|:443... connected.\n",
            "HTTP request sent, awaiting response... 200 OK\n",
            "Length: 93578 (91K) [text/plain]\n",
            "Saving to: ‘/tmp/sonnets.txt’\n",
            "\n",
            "\r/tmp/sonnets.txt      0%[                    ]       0  --.-KB/s               \r/tmp/sonnets.txt    100%[===================>]  91.38K  --.-KB/s    in 0.001s  \n",
            "\n",
            "2022-06-21 18:05:30 (107 MB/s) - ‘/tmp/sonnets.txt’ saved [93578/93578]\n",
            "\n"
          ]
        }
      ]
    },
    {
      "cell_type": "code",
      "source": [
        "model = Sequential()\n",
        "model.add(Embedding(total_words, 100, input_length=max_sequence_len-1))  #(# Your Embedding Layer)\n",
        "model.add(Bidirectional(LSTM(150, return_sequences=True)))  #(# A Bidirectional LSTM Layer)\n",
        "model.add(Dropout(0.2))  #(# A dropout layer)\n",
        "model.add(LSTM(100))  #(# Another LSTM Layer)\n",
        "model.add(Dense(total_words/2, activation='relu'))  #(# A Dense Layer including regularizers)\n",
        "model.add(Dense(total_words, activation='softmax'))  #(# A Dense Layer)\n",
        "# Pick an optimizer\n",
        "model.compile(loss='categorical_crossentropy', optimizer='adam', metrics='accuracy')  #(# Pick a loss function and an optimizer)\n",
        "print(model.summary()) #print model summary"
      ],
      "metadata": {
        "id": "6GnoE7fchEp6",
        "colab": {
          "base_uri": "https://localhost:8080/"
        },
        "outputId": "92c1d5bc-f8d8-484a-8173-459c1464dd29"
      },
      "execution_count": null,
      "outputs": [
        {
          "output_type": "stream",
          "name": "stdout",
          "text": [
            "Model: \"sequential_1\"\n",
            "_________________________________________________________________\n",
            " Layer (type)                Output Shape              Param #   \n",
            "=================================================================\n",
            " embedding_1 (Embedding)     (None, 10, 100)           321100    \n",
            "                                                                 \n",
            " bidirectional_1 (Bidirectio  (None, 10, 300)          301200    \n",
            " nal)                                                            \n",
            "                                                                 \n",
            " dropout_1 (Dropout)         (None, 10, 300)           0         \n",
            "                                                                 \n",
            " lstm_3 (LSTM)               (None, 100)               160400    \n",
            "                                                                 \n",
            " dense_2 (Dense)             (None, 1605)              162105    \n",
            "                                                                 \n",
            " dense_3 (Dense)             (None, 3211)              5156866   \n",
            "                                                                 \n",
            "=================================================================\n",
            "Total params: 6,101,671\n",
            "Trainable params: 6,101,671\n",
            "Non-trainable params: 0\n",
            "_________________________________________________________________\n",
            "None\n"
          ]
        }
      ]
    },
    {
      "cell_type": "code",
      "source": [
        " history = model.fit(predictors, label, epochs=100, verbose=1) #change the number of epochs after observing the plots later on at the point where the accuracy saturates"
      ],
      "metadata": {
        "id": "Se-rEkushRht",
        "colab": {
          "base_uri": "https://localhost:8080/"
        },
        "outputId": "44bd2e69-d967-47a3-c976-e182fb151e41"
      },
      "execution_count": null,
      "outputs": [
        {
          "output_type": "stream",
          "name": "stdout",
          "text": [
            "Epoch 1/100\n",
            "484/484 [==============================] - 10s 12ms/step - loss: 6.8040 - accuracy: 0.0262\n",
            "Epoch 2/100\n",
            "484/484 [==============================] - 5s 11ms/step - loss: 6.4081 - accuracy: 0.0332\n",
            "Epoch 3/100\n",
            "484/484 [==============================] - 5s 11ms/step - loss: 6.2142 - accuracy: 0.0373\n",
            "Epoch 4/100\n",
            "484/484 [==============================] - 5s 11ms/step - loss: 5.9970 - accuracy: 0.0451\n",
            "Epoch 5/100\n",
            "484/484 [==============================] - 5s 11ms/step - loss: 5.7219 - accuracy: 0.0572\n",
            "Epoch 6/100\n",
            "484/484 [==============================] - 5s 11ms/step - loss: 5.4366 - accuracy: 0.0708\n",
            "Epoch 7/100\n",
            "484/484 [==============================] - 5s 11ms/step - loss: 5.1656 - accuracy: 0.0819\n",
            "Epoch 8/100\n",
            "484/484 [==============================] - 6s 12ms/step - loss: 4.8850 - accuracy: 0.0991\n",
            "Epoch 9/100\n",
            "484/484 [==============================] - 5s 11ms/step - loss: 4.6004 - accuracy: 0.1170\n",
            "Epoch 10/100\n",
            "484/484 [==============================] - 5s 11ms/step - loss: 4.2975 - accuracy: 0.1382\n",
            "Epoch 11/100\n",
            "484/484 [==============================] - 5s 11ms/step - loss: 3.9778 - accuracy: 0.1713\n",
            "Epoch 12/100\n",
            "484/484 [==============================] - 5s 11ms/step - loss: 3.6473 - accuracy: 0.2179\n",
            "Epoch 13/100\n",
            "484/484 [==============================] - 5s 11ms/step - loss: 3.3163 - accuracy: 0.2617\n",
            "Epoch 14/100\n",
            "484/484 [==============================] - 5s 10ms/step - loss: 2.9968 - accuracy: 0.3211\n",
            "Epoch 15/100\n",
            "484/484 [==============================] - 5s 11ms/step - loss: 2.7137 - accuracy: 0.3721\n",
            "Epoch 16/100\n",
            "484/484 [==============================] - 5s 10ms/step - loss: 2.4628 - accuracy: 0.4227\n",
            "Epoch 17/100\n",
            "484/484 [==============================] - 5s 11ms/step - loss: 2.2317 - accuracy: 0.4660\n",
            "Epoch 18/100\n",
            "484/484 [==============================] - 5s 11ms/step - loss: 2.0227 - accuracy: 0.5120\n",
            "Epoch 19/100\n",
            "484/484 [==============================] - 5s 11ms/step - loss: 1.8449 - accuracy: 0.5535\n",
            "Epoch 20/100\n",
            "484/484 [==============================] - 5s 11ms/step - loss: 1.6807 - accuracy: 0.5900\n",
            "Epoch 21/100\n",
            "484/484 [==============================] - 5s 11ms/step - loss: 1.5470 - accuracy: 0.6224\n",
            "Epoch 22/100\n",
            "484/484 [==============================] - 5s 11ms/step - loss: 1.4232 - accuracy: 0.6432\n",
            "Epoch 23/100\n",
            "484/484 [==============================] - 5s 11ms/step - loss: 1.3219 - accuracy: 0.6730\n",
            "Epoch 24/100\n",
            "484/484 [==============================] - 5s 11ms/step - loss: 1.2217 - accuracy: 0.6958\n",
            "Epoch 25/100\n",
            "484/484 [==============================] - 5s 11ms/step - loss: 1.1482 - accuracy: 0.7113\n",
            "Epoch 26/100\n",
            "484/484 [==============================] - 5s 11ms/step - loss: 1.0727 - accuracy: 0.7315\n",
            "Epoch 27/100\n",
            "484/484 [==============================] - 5s 11ms/step - loss: 1.0224 - accuracy: 0.7412\n",
            "Epoch 28/100\n",
            "484/484 [==============================] - 5s 11ms/step - loss: 0.9627 - accuracy: 0.7546\n",
            "Epoch 29/100\n",
            "484/484 [==============================] - 5s 11ms/step - loss: 0.9097 - accuracy: 0.7700\n",
            "Epoch 30/100\n",
            "484/484 [==============================] - 5s 11ms/step - loss: 0.8518 - accuracy: 0.7842\n",
            "Epoch 31/100\n",
            "484/484 [==============================] - 5s 11ms/step - loss: 0.8287 - accuracy: 0.7894\n",
            "Epoch 32/100\n",
            "484/484 [==============================] - 5s 11ms/step - loss: 0.8076 - accuracy: 0.7920\n",
            "Epoch 33/100\n",
            "484/484 [==============================] - 5s 11ms/step - loss: 0.7963 - accuracy: 0.7950\n",
            "Epoch 34/100\n",
            "484/484 [==============================] - 5s 11ms/step - loss: 0.7598 - accuracy: 0.8005\n",
            "Epoch 35/100\n",
            "484/484 [==============================] - 5s 11ms/step - loss: 0.7521 - accuracy: 0.8053\n",
            "Epoch 36/100\n",
            "484/484 [==============================] - 5s 11ms/step - loss: 0.7303 - accuracy: 0.8097\n",
            "Epoch 37/100\n",
            "484/484 [==============================] - 5s 11ms/step - loss: 0.7295 - accuracy: 0.8121\n",
            "Epoch 38/100\n",
            "484/484 [==============================] - 5s 11ms/step - loss: 0.7130 - accuracy: 0.8130\n",
            "Epoch 39/100\n",
            "484/484 [==============================] - 5s 11ms/step - loss: 0.6839 - accuracy: 0.8187\n",
            "Epoch 40/100\n",
            "484/484 [==============================] - 5s 11ms/step - loss: 0.6633 - accuracy: 0.8236\n",
            "Epoch 41/100\n",
            "484/484 [==============================] - 5s 11ms/step - loss: 0.6544 - accuracy: 0.8249\n",
            "Epoch 42/100\n",
            "484/484 [==============================] - 5s 11ms/step - loss: 0.6698 - accuracy: 0.8196\n",
            "Epoch 43/100\n",
            "484/484 [==============================] - 5s 11ms/step - loss: 0.6413 - accuracy: 0.8273\n",
            "Epoch 44/100\n",
            "484/484 [==============================] - 5s 11ms/step - loss: 0.6470 - accuracy: 0.8245\n",
            "Epoch 45/100\n",
            "484/484 [==============================] - 5s 10ms/step - loss: 0.6371 - accuracy: 0.8261\n",
            "Epoch 46/100\n",
            "484/484 [==============================] - 5s 11ms/step - loss: 0.6237 - accuracy: 0.8306\n",
            "Epoch 47/100\n",
            "484/484 [==============================] - 5s 11ms/step - loss: 0.6173 - accuracy: 0.8304\n",
            "Epoch 48/100\n",
            "484/484 [==============================] - 5s 11ms/step - loss: 0.6187 - accuracy: 0.8296\n",
            "Epoch 49/100\n",
            "484/484 [==============================] - 6s 12ms/step - loss: 0.6161 - accuracy: 0.8302\n",
            "Epoch 50/100\n",
            "484/484 [==============================] - 5s 11ms/step - loss: 0.6006 - accuracy: 0.8329\n",
            "Epoch 51/100\n",
            "484/484 [==============================] - 5s 11ms/step - loss: 0.5919 - accuracy: 0.8357\n",
            "Epoch 52/100\n",
            "484/484 [==============================] - 5s 11ms/step - loss: 0.5970 - accuracy: 0.8337\n",
            "Epoch 53/100\n",
            "484/484 [==============================] - 5s 11ms/step - loss: 0.5942 - accuracy: 0.8346\n",
            "Epoch 54/100\n",
            "484/484 [==============================] - 5s 11ms/step - loss: 0.5936 - accuracy: 0.8350\n",
            "Epoch 55/100\n",
            "484/484 [==============================] - 5s 11ms/step - loss: 0.6053 - accuracy: 0.8287\n",
            "Epoch 56/100\n",
            "484/484 [==============================] - 5s 11ms/step - loss: 0.5819 - accuracy: 0.8339\n",
            "Epoch 57/100\n",
            "484/484 [==============================] - 5s 11ms/step - loss: 0.5766 - accuracy: 0.8375\n",
            "Epoch 58/100\n",
            "484/484 [==============================] - 5s 11ms/step - loss: 0.5596 - accuracy: 0.8406\n",
            "Epoch 59/100\n",
            "484/484 [==============================] - 5s 11ms/step - loss: 0.5723 - accuracy: 0.8368\n",
            "Epoch 60/100\n",
            "484/484 [==============================] - 5s 11ms/step - loss: 0.5782 - accuracy: 0.8351\n",
            "Epoch 61/100\n",
            "484/484 [==============================] - 5s 11ms/step - loss: 0.5860 - accuracy: 0.8327\n",
            "Epoch 62/100\n",
            "484/484 [==============================] - 5s 11ms/step - loss: 0.5671 - accuracy: 0.8362\n",
            "Epoch 63/100\n",
            "484/484 [==============================] - 5s 11ms/step - loss: 0.5604 - accuracy: 0.8403\n",
            "Epoch 64/100\n",
            "484/484 [==============================] - 5s 11ms/step - loss: 0.5631 - accuracy: 0.8373\n",
            "Epoch 65/100\n",
            "484/484 [==============================] - 5s 11ms/step - loss: 0.5607 - accuracy: 0.8375\n",
            "Epoch 66/100\n",
            "484/484 [==============================] - 5s 11ms/step - loss: 0.5590 - accuracy: 0.8395\n",
            "Epoch 67/100\n",
            "484/484 [==============================] - 5s 11ms/step - loss: 0.5737 - accuracy: 0.8358\n",
            "Epoch 68/100\n",
            "484/484 [==============================] - 5s 11ms/step - loss: 0.5553 - accuracy: 0.8399\n",
            "Epoch 69/100\n",
            "484/484 [==============================] - 5s 11ms/step - loss: 0.5446 - accuracy: 0.8407\n",
            "Epoch 70/100\n",
            "484/484 [==============================] - 5s 11ms/step - loss: 0.5503 - accuracy: 0.8399\n",
            "Epoch 71/100\n",
            "484/484 [==============================] - 5s 11ms/step - loss: 0.5490 - accuracy: 0.8402\n",
            "Epoch 72/100\n",
            "484/484 [==============================] - 5s 11ms/step - loss: 0.5403 - accuracy: 0.8419\n",
            "Epoch 73/100\n",
            "484/484 [==============================] - 5s 11ms/step - loss: 0.5460 - accuracy: 0.8405\n",
            "Epoch 74/100\n",
            "484/484 [==============================] - 5s 11ms/step - loss: 0.5445 - accuracy: 0.8406\n",
            "Epoch 75/100\n",
            "484/484 [==============================] - 5s 11ms/step - loss: 0.5513 - accuracy: 0.8418\n",
            "Epoch 76/100\n",
            "484/484 [==============================] - 5s 11ms/step - loss: 0.5479 - accuracy: 0.8403\n",
            "Epoch 77/100\n",
            "484/484 [==============================] - 5s 11ms/step - loss: 0.5422 - accuracy: 0.8397\n",
            "Epoch 78/100\n",
            "484/484 [==============================] - 5s 11ms/step - loss: 0.5389 - accuracy: 0.8409\n",
            "Epoch 79/100\n",
            "484/484 [==============================] - 5s 10ms/step - loss: 0.5572 - accuracy: 0.8359\n",
            "Epoch 80/100\n",
            "484/484 [==============================] - 5s 11ms/step - loss: 0.5253 - accuracy: 0.8456\n",
            "Epoch 81/100\n",
            "484/484 [==============================] - 5s 11ms/step - loss: 0.5206 - accuracy: 0.8472\n",
            "Epoch 82/100\n",
            "484/484 [==============================] - 5s 11ms/step - loss: 0.5206 - accuracy: 0.8443\n",
            "Epoch 83/100\n",
            "484/484 [==============================] - 5s 10ms/step - loss: 0.5364 - accuracy: 0.8421\n",
            "Epoch 84/100\n",
            "484/484 [==============================] - 5s 11ms/step - loss: 0.5356 - accuracy: 0.8399\n",
            "Epoch 85/100\n",
            "484/484 [==============================] - 5s 11ms/step - loss: 0.5386 - accuracy: 0.8391\n",
            "Epoch 86/100\n",
            "484/484 [==============================] - 5s 11ms/step - loss: 0.5326 - accuracy: 0.8427\n",
            "Epoch 87/100\n",
            "484/484 [==============================] - 5s 11ms/step - loss: 0.5349 - accuracy: 0.8399\n",
            "Epoch 88/100\n",
            "484/484 [==============================] - 5s 11ms/step - loss: 0.5346 - accuracy: 0.8408\n",
            "Epoch 89/100\n",
            "484/484 [==============================] - 5s 11ms/step - loss: 0.5359 - accuracy: 0.8395\n",
            "Epoch 90/100\n",
            "484/484 [==============================] - 5s 11ms/step - loss: 0.5233 - accuracy: 0.8434\n",
            "Epoch 91/100\n",
            "484/484 [==============================] - 5s 11ms/step - loss: 0.5151 - accuracy: 0.8462\n",
            "Epoch 92/100\n",
            "484/484 [==============================] - 5s 11ms/step - loss: 0.5270 - accuracy: 0.8421\n",
            "Epoch 93/100\n",
            "484/484 [==============================] - 5s 11ms/step - loss: 0.5259 - accuracy: 0.8425\n",
            "Epoch 94/100\n",
            "484/484 [==============================] - 5s 11ms/step - loss: 0.5246 - accuracy: 0.8415\n",
            "Epoch 95/100\n",
            "484/484 [==============================] - 5s 11ms/step - loss: 0.5264 - accuracy: 0.8411\n",
            "Epoch 96/100\n",
            "484/484 [==============================] - 5s 11ms/step - loss: 0.5191 - accuracy: 0.8434\n",
            "Epoch 97/100\n",
            "484/484 [==============================] - 6s 12ms/step - loss: 0.5219 - accuracy: 0.8426\n",
            "Epoch 98/100\n",
            "484/484 [==============================] - 5s 11ms/step - loss: 0.5232 - accuracy: 0.8422\n",
            "Epoch 99/100\n",
            "484/484 [==============================] - 5s 11ms/step - loss: 0.5182 - accuracy: 0.8430\n",
            "Epoch 100/100\n",
            "484/484 [==============================] - 5s 11ms/step - loss: 0.5136 - accuracy: 0.8445\n"
          ]
        }
      ]
    },
    {
      "cell_type": "code",
      "source": [
        "import matplotlib.pyplot as plt\n",
        "acc = history.history['accuracy']\n",
        "loss = history.history['loss']\n",
        "\n",
        "epochs = range(len(acc))\n",
        "\n",
        "plt.plot(epochs, acc, 'b', label='Training accuracy')\n",
        "plt.title('Training accuracy')\n",
        "\n",
        "plt.figure()\n",
        "\n",
        "plt.plot(epochs, loss, 'b', label='Training Loss')\n",
        "plt.title('Training loss')\n",
        "plt.legend()\n",
        "\n",
        "plt.show()"
      ],
      "metadata": {
        "id": "HMq2MUuohVAw",
        "colab": {
          "base_uri": "https://localhost:8080/",
          "height": 545
        },
        "outputId": "3673c90b-940e-45ef-b02a-4e89191869e4"
      },
      "execution_count": null,
      "outputs": [
        {
          "output_type": "display_data",
          "data": {
            "text/plain": [
              "<Figure size 432x288 with 1 Axes>"
            ],
            "image/png": "[encoded data removed]"
          },
          "metadata": {
            "needs_background": "light"
          }
        },
        {
          "output_type": "display_data",
          "data": {
            "text/plain": [
              "<Figure size 432x288 with 1 Axes>"
            ],
            "image/png": "[encoded data removed]"
          },
          "metadata": {
            "needs_background": "light"
          }
        }
      ]
    },
    {
      "cell_type": "code",
      "source": [
        "seed_text = \"in those freckles live their\"\n",
        "next_words = 50 #Play with this quantity to change the number of words you want to see in the output after the seed_text\n",
        "\n",
        "for _ in range(next_words):\n",
        "  token_list = tokenizer.texts_to_sequences([seed_text])[0]\n",
        "  token_list = pad_sequences([token_list], maxlen=max_sequence_len-1, padding='pre')\n",
        "  predict_x = model.predict(token_list)\n",
        "  classes_x = np.argmax(predict_x, axis=1)\n",
        "  output_word = \"\"\n",
        "  for word, index in tokenizer.word_index.items():\n",
        "    if index == classes_x:\n",
        "      output_word = word\n",
        "      break\n",
        "  seed_text += \" \" + output_word\n",
        "print(seed_text)"
      ],
      "metadata": {
        "id": "j5Q2VQek4ebV",
        "colab": {
          "base_uri": "https://localhost:8080/"
        },
        "outputId": "3c7b577e-cc57-4400-8a40-c8bb00d5e2df"
      },
      "execution_count": null,
      "outputs": [
        {
          "output_type": "stream",
          "name": "stdout",
          "text": [
            "in those freckles live their fair will give his gains loving breast shade of you ' in thy jealousy to come place and so belong call not this rhyme abused call with inconstant rhyme bearing it 'no ' shines so bad with mine 'no is with thy granting guest live live in it to dwell\n"
          ]
        }
      ]
    }
  ]
}