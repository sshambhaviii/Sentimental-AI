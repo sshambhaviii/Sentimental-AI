{
 "cells": [
  {
   "cell_type": "markdown",
   "id": "efcaabf6",
   "metadata": {},
   "source": [
    "# SENTIMENTAL AI\n",
    "# SnT Summer Project, BCS-IITK\n",
    "## WEEK-1 Assignment-1\n",
    "\n",
    "Reference- https://github.com/casperbh96/Neural-Network-From-Scratch "
   ]
  },
  {
   "cell_type": "markdown",
   "id": "524915b6",
   "metadata": {},
   "source": [
    "## Neural Networks From Scratch\n",
    "\n",
    "The idea is that we show the very explicit implementation in NumPy, where we have to do much of the work, then afterwards, we switch to the most popular Python packages for building neural networks, to show just how easier it makes our lives.\n",
    "\n",
    "- NumPy\n",
    "- TensorFlow\n",
    "\n",
    "\n",
    "We will focus on the following 4-layer neural network, with fully connected layers in this notebook. Ideally, you can develop further on and improve the NumPy approach, while modifying the layers TensorFlow to use convolutions and filters."
   ]
  },
  {
   "cell_type": "markdown",
   "id": "1fd63d18",
   "metadata": {},
   "source": [
    "### Prepare a Dataset\n",
    "\n",
    "For this walkthrough, we will focus on importing the MNIST dataset and using that as the input to our deep neural networks. Note that this is purely a demonstration of how to make a neural network from scratch, and it is NOT the recommended architecture for solving the MNIST problem."
   ]
  },
  {
   "cell_type": "code",
   "execution_count": 6,
   "id": "0d355e0b",
   "metadata": {},
   "outputs": [
    {
     "data": {
      "image/png": "[encoded data removed]",
      "text/plain": [
       "<Figure size 1440x144 with 10 Axes>"
      ]
     },
     "metadata": {
      "needs_background": "light"
     },
     "output_type": "display_data"
    }
   ],
   "source": [
    "import tensorflow as tf\n",
    "import matplotlib.pyplot as plt\n",
    "import numpy as np\n",
    "import time\n",
    "\n",
    "# Download the MNIST handwritten digits dataset.\n",
    "(x_train, y_train), (x_test, y_test) = tf.keras.datasets.mnist.load_data()\n",
    "\n",
    "# Visualize some samples.\n",
    "\n",
    "n = 10                               # number of samples\n",
    "plt.figure(figsize=(n*2, 2))\n",
    "for i in range(n):\n",
    "    plt.subplot(1, n, i+1)\n",
    "    plt.imshow(x_train[i], cmap='gray')\n",
    "    plt.title(\"Class {}\".format(y_train[i]))\n",
    "    plt.axis('off')\n",
    "plt.show()\n",
    "\n",
    "\n"
   ]
  },
  {
   "cell_type": "markdown",
   "id": "093e4315",
   "metadata": {},
   "source": [
    "#### Preprocess Dataset"
   ]
  },
  {
   "cell_type": "code",
   "execution_count": 7,
   "id": "0210cf5d",
   "metadata": {},
   "outputs": [
    {
     "data": {
      "text/plain": [
       "((60000, 784),\n",
       " TensorShape([60000, 10]),\n",
       " (10000, 784),\n",
       " TensorShape([10000, 10]))"
      ]
     },
     "execution_count": 7,
     "metadata": {},
     "output_type": "execute_result"
    }
   ],
   "source": [
    "def process_x(x):\n",
    "    x = x/255 # Normalize the images to [0,1]\n",
    "    x = np.reshape(x,(x.shape[0],784)) # Flatten the images\n",
    "    \n",
    "    assert x.shape[1] == 784\n",
    "\n",
    "    return x\n",
    "\n",
    "def process_y(y):\n",
    "    y = tf.one_hot(y,10) # One-hot encode the labels (HINT: use tf.one_hot)\n",
    "\n",
    "    assert y.shape[1] == 10\n",
    "    return y\n",
    "\n",
    "x_train = process_x(x_train)\n",
    "x_test = process_x(x_test)\n",
    "y_train = process_y(y_train)\n",
    "y_test = process_y(y_test)\n",
    "\n",
    "x_train.shape, y_train.shape, x_test.shape, y_test.shape"
   ]
  },
  {
   "cell_type": "markdown",
   "id": "edc00d08",
   "metadata": {},
   "source": [
    "### 4-layer Neural Network with NumPy"
   ]
  },
  {
   "cell_type": "code",
   "execution_count": 8,
   "id": "0e7f9439",
   "metadata": {},
   "outputs": [],
   "source": [
    "class DeepNeuralNetwork():\n",
    "    def __init__(self, sizes, epochs=10, l_rate=0.001):\n",
    "        self.sizes = sizes\n",
    "        self.epochs = epochs\n",
    "        self.l_rate = l_rate\n",
    "\n",
    "        # we save all parameters in the neural network in this dictionary\n",
    "        self.params = self.initialization()\n",
    "\n",
    "    def sigmoid(self, x, derivative=False):\n",
    "        # if derivative is True, return the derivative of the sigmoid function\n",
    "        # else return the sigmoid function\n",
    "\n",
    "        # your code here\n",
    "        s=np.exp(-x)\n",
    "        s=1/(1+s)\n",
    "        if derivative==True:\n",
    "            sigmoid=s*(1-s)\n",
    "        else: \n",
    "            sigmoid=s\n",
    "        return sigmoid    \n",
    "        \n",
    "        \n",
    "        \n",
    "\n",
    "    def softmax(self, x, derivative=False):\n",
    "        # Numerically stable with large exponentials\n",
    "        # if derivative is True, return the derivative of the softmax function\n",
    "        # else return the softmax function\n",
    "        \n",
    "        exps = np.exp(x - x.max())\n",
    "        s=np.sum(exps,axis=0)\n",
    "        s=exps/s\n",
    "        if derivative:\n",
    "            return s*(1-s)\n",
    "        else:\n",
    "            return s\n",
    "       \n",
    "\n",
    "    def initialization(self):\n",
    "        # number of nodes in each layer\n",
    "        input_layer=self.sizes[0]\n",
    "        hidden_1=self.sizes[1]\n",
    "        hidden_2=self.sizes[2]\n",
    "        output_layer=self.sizes[3]\n",
    "\n",
    "        # Initialize weights\n",
    "        # W1 are the weights for hidden layer 1\n",
    "        # W2 are the weights for hidden layer 2\n",
    "        # W3 are the weights for output layer\n",
    "        # you should initialize these weights with random values between 0 and 1\n",
    "        # Hint- use np.random.randn(...)\n",
    "        \n",
    "        params = {\n",
    "            'W1': np.random.randn(hidden_1,input_layer),\n",
    "            'W2': np.random.randn(hidden_2,hidden_1),\n",
    "            'W3': np.random.randn(output_layer,hidden_2)\n",
    "           \n",
    "           \n",
    "        }\n",
    "\n",
    "        return params\n",
    "\n",
    "    def forward_pass(self, x_train):\n",
    "        '''\n",
    "            Implement the forward pass of the neural network\n",
    "            You should return the output of the neural network on x_train\n",
    "        '''\n",
    "        params = self.params\n",
    "\n",
    "        # input layer activations becomes sample\n",
    "        params['A0'] = x_train.T\n",
    "\n",
    "        # input layer to hidden layer 1\n",
    "        params['Z1'] = np.matmul(params['W1'],params['A0']) # output of the hidden layer 1 before activation (Hint: you have to just multiply 2 matrices...)\n",
    "        params['A1'] = self.sigmoid(params['Z1']) # output of the hidden layer 1 after activation\n",
    "\n",
    "        # hidden layer 1 to hidden layer 2\n",
    "        params['Z2'] = np.matmul(params['W2'],params['A1']) # output of the hidden layer 2 before activation\n",
    "        params['A2'] = self.sigmoid(params['Z2']) # output of the hidden layer 2 after activation\n",
    "\n",
    "        # hidden layer 2 to output layer\n",
    "        params['Z3'] = np.matmul(params['W3'],params['A2']) # output of the output layer before activation\n",
    "        params['A3'] = self.sigmoid(params['Z3']) # output of the output layer after activation\n",
    "\n",
    "        return params['A3']\n",
    "\n",
    "    def backward_pass(self, y_train, output):\n",
    "        '''\n",
    "            This is the backpropagation algorithm, for calculating the updates\n",
    "            of the neural network's parameters.\n",
    "\n",
    "                  Some warnings you may encounter: \n",
    "                  RuntimeWarning: invalid value encountered in true_divide\n",
    "                  RuntimeWarning: overflow encountered in exp\n",
    "                  RuntimeWarning: overflow encountered in square\n",
    "            This function could be tricky to implement.\n",
    "            Thats why we have provided a solution.\n",
    "            Feel free to implement your own solution.\n",
    "            It must return the updates for the weights.\n",
    "        '''\n",
    "        params = self.params\n",
    "        change_w = {}\n",
    "\n",
    "        # Calculate W3 update\n",
    "        error = 2 * (output - y_train) / output.shape[0] * self.softmax(params['Z3'], derivative=True)\n",
    "        change_w['W3'] = np.outer(error, params['A2'])\n",
    "\n",
    "        # Calculate W2 update\n",
    "        error = np.dot(params['W3'].T, error) * self.sigmoid(params['Z2'], derivative=True)\n",
    "        change_w['W2'] = np.outer(error, params['A1'])\n",
    "\n",
    "        # Calculate W1 update\n",
    "        error = np.dot(params['W2'].T, error) * self.sigmoid(params['Z1'], derivative=True)\n",
    "        change_w['W1'] = np.outer(error, params['A0'])\n",
    "\n",
    "        return change_w\n",
    "\n",
    "    def update_network_parameters(self, changes_to_w):\n",
    "        '''\n",
    "            Update network parameters according to update rule from\n",
    "            Stochastic Gradient Descent.\n",
    "\n",
    "            θ = θ - η * ∇J(x, y), \n",
    "                theta θ:            a network parameter (e.g. a weight w)\n",
    "                eta η:              the learning rate\n",
    "                gradient ∇J(x, y):  the gradient of the objective function,\n",
    "                                    i.e. the change for a specific theta θ\n",
    "        '''\n",
    "        params=self.params\n",
    "        for key, value in changes_to_w.items():\n",
    "             params[key]-=self.l_rate*value\n",
    "        self.params=params        \n",
    "    def compute_accuracy(self, x_val, y_val):\n",
    "        '''\n",
    "            This function does a forward pass of x, then checks if the indices\n",
    "            of the maximum value in the output equals the indices in the label\n",
    "            y. Then it sums over each prediction and calculates the accuracy.\n",
    "        '''\n",
    "        predictions = []\n",
    "\n",
    "        for x, y in zip(x_val, y_val):\n",
    "            output = self.forward_pass(x)\n",
    "            pred = np.argmax(output) # get the label of predictions\n",
    "            actual=np.argmax(y)\n",
    "            if actual==pred:\n",
    "                predictions.append(pred)\n",
    "        \n",
    "        return len(predictions)/len(x_val)\n",
    "\n",
    "    def train(self, x_train, y_train, x_val, y_val):\n",
    "        start_time = time.time()\n",
    "\n",
    "        # Train the network\n",
    "        for iteration in range(self.epochs):\n",
    "            for x,y in zip(x_train, y_train):\n",
    "                # compute the output of network\n",
    "                output = self.forward_pass(x)\n",
    "\n",
    "\n",
    "\n",
    "                # calculate updates to the network's parameters\n",
    "                changes_to_w = self.backward_pass(y,output)\n",
    "\n",
    "                # update the network's parameters\n",
    "                self.update_network_parameters(changes_to_w)\n",
    "            \n",
    "            # compute the accuracy on the validation set\n",
    "            accuracy = self.compute_accuracy(x_val, y_val)\n",
    "            print('Epoch: {0}, Time Spent: {1:.2f}s, Accuracy: {2:.2f}%'.format(\n",
    "                iteration+1, time.time() - start_time, accuracy * 100\n",
    "            ))\n",
    "\n",
    "    def predict(self, x_test):\n",
    "        # return the output of the network on x_test\n",
    "        # should return the label [0-9] for each sample in x_test\n",
    "        predictions = []\n",
    "        for x in x_test:\n",
    "            output=self.forward_pass(x)\n",
    "            pred=np.argmax(output)\n",
    "            predictions.append(pred)\n",
    "        \n",
    "        return predictions"
   ]
  },
  {
   "cell_type": "code",
   "execution_count": 10,
   "id": "251c776b",
   "metadata": {},
   "outputs": [
    {
     "name": "stdout",
     "output_type": "stream",
     "text": [
      "Epoch: 1, Time Spent: 788.17s, Accuracy: 11.76%\n",
      "Epoch: 2, Time Spent: 841.22s, Accuracy: 11.36%\n",
      "Epoch: 3, Time Spent: 887.87s, Accuracy: 9.20%\n",
      "Epoch: 4, Time Spent: 934.21s, Accuracy: 9.80%\n",
      "Epoch: 5, Time Spent: 980.33s, Accuracy: 9.95%\n",
      "Epoch: 6, Time Spent: 1025.68s, Accuracy: 10.41%\n",
      "Epoch: 7, Time Spent: 1071.80s, Accuracy: 10.86%\n",
      "Epoch: 8, Time Spent: 1121.19s, Accuracy: 11.36%\n",
      "Epoch: 9, Time Spent: 1167.64s, Accuracy: 11.86%\n",
      "Epoch: 10, Time Spent: 1215.74s, Accuracy: 12.31%\n"
     ]
    }
   ],
   "source": [
    "np.random.seed(1)\n",
    "# INitialize the network\n",
    "dnn = DeepNeuralNetwork(sizes=[784, 128, 64, 10])\n",
    "\n",
    "# Start the Training!\n",
    "dnn.train(x_train[1:10000], y_train[1:10000], x_test[1:2000],y_test[1:2000])"
   ]
  },
  {
   "cell_type": "code",
   "execution_count": 11,
   "id": "411a289c",
   "metadata": {},
   "outputs": [
    {
     "data": {
      "image/png": "[encoded data removed]",
      "text/plain": [
       "<Figure size 1440x288 with 10 Axes>"
      ]
     },
     "metadata": {
      "needs_background": "light"
     },
     "output_type": "display_data"
    }
   ],
   "source": [
    "# Visualize the results\n",
    "\n",
    "y_pred_np = dnn.predict(x_test)\n",
    "\n",
    "n = 10\n",
    "plt.figure(figsize=(n*2,4))\n",
    "for i in range(n):\n",
    "    plt.subplot(1,n,i+1)\n",
    "    plt.imshow(x_test[i].reshape(28,28), cmap='gray')\n",
    "    plt.axis('off')\n",
    "    plt.title('Prediction: {0}'.format(y_pred_np[i]))"
   ]
  },
  {
   "cell_type": "markdown",
   "id": "b9c34adc",
   "metadata": {},
   "source": [
    "## **TensorFlow** 2.0 with Keras"
   ]
  },
  {
   "cell_type": "code",
   "execution_count": 16,
   "id": "7095ab23",
   "metadata": {},
   "outputs": [],
   "source": [
    "# the layers class is used to define differetn layers in the model\n",
    "from tensorflow.keras import layers"
   ]
  },
  {
   "cell_type": "code",
   "execution_count": 19,
   "id": "1a4a68d1",
   "metadata": {},
   "outputs": [],
   "source": [
    "# Build the model using tf.keras.Sequential class\n",
    "# You can use other methods to define your model as well\n",
    "input_shape=(28,28)\n",
    "model = tf.keras.Sequential([tf.keras.layers.Flatten(input_shape=input_shape),\n",
    "                              tf.keras.layers.Dense(128, activation='relu'),\n",
    "                              tf.keras.layers.Dense(64, activation='relu'),\n",
    "                              tf.keras.layers.Dense(32, activation='relu'),\n",
    "                              tf.keras.layers.Dense(10, activation='softmax'),                             \n",
    "])\n",
    "\n",
    "# Compiling the moodel involves choosing an optimizer and a loss function and the metric you want to use.\n",
    "model.compile(optimizer= 'adam',\n",
    "              loss = tf.keras.losses.SparseCategoricalCrossentropy(from_logits=True),\n",
    "              metrics=['accuracy'])\n",
    "\n",
    "\n"
   ]
  },
  {
   "cell_type": "code",
   "execution_count": 20,
   "id": "230b811d",
   "metadata": {},
   "outputs": [
    {
     "name": "stdout",
     "output_type": "stream",
     "text": [
      "Epoch 1/10\n"
     ]
    },
    {
     "name": "stderr",
     "output_type": "stream",
     "text": [
      "2022-06-10 22:37:37.194096: I tensorflow/core/grappler/optimizers/custom_graph_optimizer_registry.cc:112] Plugin optimizer for device_type GPU is enabled.\n"
     ]
    },
    {
     "name": "stdout",
     "output_type": "stream",
     "text": [
      "1865/1875 [============================>.] - ETA: 0s - loss: 0.8804 - accuracy: 0.8351"
     ]
    },
    {
     "name": "stderr",
     "output_type": "stream",
     "text": [
      "2022-06-10 22:37:45.807077: I tensorflow/core/grappler/optimizers/custom_graph_optimizer_registry.cc:112] Plugin optimizer for device_type GPU is enabled.\n"
     ]
    },
    {
     "name": "stdout",
     "output_type": "stream",
     "text": [
      "1875/1875 [==============================] - 10s 5ms/step - loss: 0.8768 - accuracy: 0.8356 - val_loss: 0.3464 - val_accuracy: 0.9166\n",
      "Epoch 2/10\n",
      "1875/1875 [==============================] - 9s 5ms/step - loss: 0.2589 - accuracy: 0.9324 - val_loss: 0.2287 - val_accuracy: 0.9387\n",
      "Epoch 3/10\n",
      "1875/1875 [==============================] - 9s 5ms/step - loss: 0.1784 - accuracy: 0.9522 - val_loss: 0.1687 - val_accuracy: 0.9544\n",
      "Epoch 4/10\n",
      "1875/1875 [==============================] - 8s 5ms/step - loss: 0.1387 - accuracy: 0.9611 - val_loss: 0.1522 - val_accuracy: 0.9589\n",
      "Epoch 5/10\n",
      "1875/1875 [==============================] - 9s 5ms/step - loss: 0.1178 - accuracy: 0.9679 - val_loss: 0.1533 - val_accuracy: 0.9561\n",
      "Epoch 6/10\n",
      "1875/1875 [==============================] - 9s 5ms/step - loss: 0.1020 - accuracy: 0.9718 - val_loss: 0.1445 - val_accuracy: 0.9658\n",
      "Epoch 7/10\n",
      "1875/1875 [==============================] - 9s 5ms/step - loss: 0.0898 - accuracy: 0.9746 - val_loss: 0.1291 - val_accuracy: 0.9685\n",
      "Epoch 8/10\n",
      "1875/1875 [==============================] - 9s 5ms/step - loss: 0.0767 - accuracy: 0.9787 - val_loss: 0.1527 - val_accuracy: 0.9655\n",
      "Epoch 9/10\n",
      "1875/1875 [==============================] - 9s 5ms/step - loss: 0.0738 - accuracy: 0.9792 - val_loss: 0.1368 - val_accuracy: 0.9680\n",
      "Epoch 10/10\n",
      "1875/1875 [==============================] - 9s 5ms/step - loss: 0.0639 - accuracy: 0.9825 - val_loss: 0.1230 - val_accuracy: 0.9731\n"
     ]
    },
    {
     "data": {
      "text/plain": [
       "<tensorflow.python.keras.callbacks.History at 0x4f6611b80>"
      ]
     },
     "execution_count": 20,
     "metadata": {},
     "output_type": "execute_result"
    }
   ],
   "source": [
    "# Thats it! You can now start the training.\n",
    "(x_train, y_train), (x_test, y_test) = tf.keras.datasets.mnist.load_data()\n",
    "model.fit(x_train, y_train, epochs=10, validation_data=(x_test, y_test))"
   ]
  },
  {
   "cell_type": "code",
   "execution_count": 21,
   "id": "0cb34675",
   "metadata": {},
   "outputs": [
    {
     "name": "stderr",
     "output_type": "stream",
     "text": [
      "2022-06-10 22:39:12.869188: I tensorflow/core/grappler/optimizers/custom_graph_optimizer_registry.cc:112] Plugin optimizer for device_type GPU is enabled.\n"
     ]
    },
    {
     "data": {
      "image/png": "[encoded data removed]",
      "text/plain": [
       "<Figure size 1440x288 with 10 Axes>"
      ]
     },
     "metadata": {
      "needs_background": "light"
     },
     "output_type": "display_data"
    }
   ],
   "source": [
    "# Visualize the results\n",
    "\n",
    "y_pred_tf = np.argmax(model.predict(x_test),axis=1)\n",
    "\n",
    "n = 10\n",
    "plt.figure(figsize=(n*2,4))\n",
    "for i in range(n):\n",
    "    plt.subplot(1,n,i+1)\n",
    "    plt.imshow(x_test[i].reshape(28,28), cmap='gray')\n",
    "    plt.axis('off')\n",
    "    plt.title('Prediction: {0}'.format(y_pred_tf[i]))"
   ]
  },
  {
   "cell_type": "markdown",
   "id": "f4aea1f0",
   "metadata": {},
   "source": [
    "Write the answers for the following questions in the markdown cell (double click cell to edit) below-\n",
    "\n",
    "### Questions:\n",
    "\n",
    "Q: Why the accuracy of the keras model is higher than our numpy model? (Hint: there is a important factor not implemented in numpy model..) \n",
    "\n",
    "A: Keras uses pre trained weights unlike numpy, which uses random initial weights.\n"
   ]
  },
  {
   "cell_type": "markdown",
   "id": "2838c8a4",
   "metadata": {},
   "source": [
    "Q: List down all factors due to which numpy model is slow. \n",
    "\n",
    "A: Keras calculates the differentials automatically while numpy does not, it has to do it seperately\n"
   ]
  },
  {
   "cell_type": "markdown",
   "id": "f016f6e1",
   "metadata": {},
   "source": [
    "Q: Is the model overfitting? underfitting? explain. \n",
    "\n",
    "A: The keras model is overfitting because the accuracy is so high, while the numpy model is underfitting because the accuracy is low."
   ]
  },
  {
   "cell_type": "code",
   "execution_count": null,
   "id": "ea2b0d29",
   "metadata": {},
   "outputs": [],
   "source": []
  }
 ],
 "metadata": {
  "kernelspec": {
   "display_name": "Python 3.9 (tensorflow)",
   "language": "python",
   "name": "tensorflow"
  },
  "language_info": {
   "codemirror_mode": {
    "name": "ipython",
    "version": 3
   },
   "file_extension": ".py",
   "mimetype": "text/x-python",
   "name": "python",
   "nbconvert_exporter": "python",
   "pygments_lexer": "ipython3",
   "version": "3.9.7"
  }
 },
 "nbformat": 4,
 "nbformat_minor": 5
}
